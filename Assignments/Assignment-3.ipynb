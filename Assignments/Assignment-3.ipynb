{
 "cells": [
  {
   "cell_type": "markdown",
   "metadata": {},
   "source": [
    "# CSE-221710301019-PRASAD REDDY"
   ]
  },
  {
   "cell_type": "markdown",
   "metadata": {},
   "source": [
    "```1. Create a function to find Factorial of a number using Recursion```\n"
   ]
  },
  {
   "cell_type": "code",
   "execution_count": 6,
   "metadata": {},
   "outputs": [
    {
     "name": "stdout",
     "output_type": "stream",
     "text": [
      "Enter n:5\n",
      "factorial of 5 numbers is  120\n"
     ]
    }
   ],
   "source": [
    "n =int(input(\"Enter n:\"))\n",
    "def fac(n):\n",
    "    if(n == 1):\n",
    "        return 1\n",
    "    else :\n",
    "        return n*fac(n-1)     \n",
    "print(\"factorial of\" ,n,\"numbers is \",fac(n))"
   ]
  },
  {
   "cell_type": "markdown",
   "metadata": {},
   "source": [
    "```2. Create a function for generating fibonacci series```"
   ]
  },
  {
   "cell_type": "code",
   "execution_count": 3,
   "metadata": {},
   "outputs": [
    {
     "name": "stdout",
     "output_type": "stream",
     "text": [
      "Enter n:10\n",
      "series: \n",
      "0 1 1 2 3 5 8 13 21 34 55 "
     ]
    }
   ],
   "source": [
    "n =int(input(\"Enter n:\"))\n",
    "def fib(n):\n",
    "    if n==1:\n",
    "        return 1\n",
    "    elif n==0:\n",
    "        return 0\n",
    "    else:\n",
    "        return fib(n-1)+fib(n-2)\n",
    "print(\"series: \")\n",
    "for i in range(n+1):\n",
    "    print(fib(i),end=\" \")\n"
   ]
  },
  {
   "cell_type": "markdown",
   "metadata": {},
   "source": [
    "```3. Print sum of list of elements without using sum() function```\n"
   ]
  },
  {
   "cell_type": "code",
   "execution_count": 5,
   "metadata": {},
   "outputs": [
    {
     "name": "stdout",
     "output_type": "stream",
     "text": [
      "Sum :  10\n"
     ]
    }
   ],
   "source": [
    "list = [1,2,3,4]\n",
    "s=0\n",
    "for i in list:\n",
    "    s+=i\n",
    "print(\"Sum : \",s)"
   ]
  },
  {
   "cell_type": "markdown",
   "metadata": {},
   "source": [
    "```4. Print only even numbers from the list ```"
   ]
  },
  {
   "cell_type": "code",
   "execution_count": 8,
   "metadata": {},
   "outputs": [
    {
     "name": "stdout",
     "output_type": "stream",
     "text": [
      "Even numbers are: \n",
      "2 4 6 8 0 "
     ]
    }
   ],
   "source": [
    "list = [1,2,3,4,5,6,7,8,9,0]\n",
    "print(\"Even numbers are: \")\n",
    "for i in list:\n",
    "    if i%2==0:\n",
    "        print(i,end=\" \")"
   ]
  },
  {
   "cell_type": "markdown",
   "metadata": {},
   "source": [
    "```5.  Write a Python program to get the smallest number from a list and display index of smallest element of the list```"
   ]
  },
  {
   "cell_type": "code",
   "execution_count": 5,
   "metadata": {},
   "outputs": [
    {
     "name": "stdout",
     "output_type": "stream",
     "text": [
      "Smallest is: 1\n",
      "Min is at: 4\n"
     ]
    }
   ],
   "source": [
    "list = [2,3,4,5,1,6,7,8,9]\n",
    "min=10000000\n",
    "for i in list:\n",
    "    if i<min:\n",
    "        min=i\n",
    "print(\"Smallest is:\",min)\n",
    "print(\"Min is at:\",list.index(min))"
   ]
  },
  {
   "cell_type": "markdown",
   "metadata": {},
   "source": [
    "```6. Write a Python function that checks whether a passed string is palindrome or not.```"
   ]
  },
  {
   "cell_type": "code",
   "execution_count": 8,
   "metadata": {},
   "outputs": [
    {
     "name": "stdout",
     "output_type": "stream",
     "text": [
      "Enter string: mam\n",
      "Palindrome\n"
     ]
    }
   ],
   "source": [
    "s = input(\"Enter string: \")\n",
    "def palin(s):\n",
    "    print(\"Palindrome\") if s == s[::-1] else print(\"NO\")\n",
    "palin(s)\n",
    "        "
   ]
  },
  {
   "cell_type": "markdown",
   "metadata": {},
   "source": [
    "```7. Write a Python program to count the number of even and odd numbers from a series of numbers.```"
   ]
  },
  {
   "cell_type": "code",
   "execution_count": 30,
   "metadata": {},
   "outputs": [
    {
     "name": "stdout",
     "output_type": "stream",
     "text": [
      "Even: 5 and Odds: 5\n"
     ]
    }
   ],
   "source": [
    "l = [1,2,3,4,5,6,7,8,9,0]\n",
    "e=0\n",
    "o=0\n",
    "for i in l:\n",
    "    if i%2 == 0:\n",
    "        e+=1\n",
    "    else :\n",
    "        o+=1\n",
    "print(\"Even:\",e,\"and Odds:\",o)"
   ]
  },
  {
   "cell_type": "markdown",
   "metadata": {},
   "source": [
    "```8. Write a Python program that prints all the numbers from 0 to 6 except 3 and 6.\n",
    "        Note : Use 'continue' statement.```\n"
   ]
  },
  {
   "cell_type": "code",
   "execution_count": 31,
   "metadata": {},
   "outputs": [
    {
     "name": "stdout",
     "output_type": "stream",
     "text": [
      "0 1 2 4 5 "
     ]
    }
   ],
   "source": [
    "for i in range(0,7):\n",
    "    if i==3 or i==6:\n",
    "        continue\n",
    "    else:\n",
    "        print(i,end=\" \")"
   ]
  },
  {
   "cell_type": "markdown",
   "metadata": {},
   "source": [
    "```9. Write a python function to check whether the given number is prime or not```"
   ]
  },
  {
   "cell_type": "code",
   "execution_count": 9,
   "metadata": {},
   "outputs": [
    {
     "name": "stdout",
     "output_type": "stream",
     "text": [
      "Enter n: 7\n",
      "Prime\n"
     ]
    }
   ],
   "source": [
    "def pr(n):\n",
    "    for i in range(2,(n/2)+1):\n",
    "        c += 1\n",
    "    return c\n",
    "n = int(input(\"Enter n: \"))\n",
    "c=0\n",
    "if c == 0 :\n",
    "    print(\"Prime\")\n",
    "else :\n",
    "    print(\"No\")"
   ]
  },
  {
   "cell_type": "markdown",
   "metadata": {},
   "source": [
    "```10. Write a python function to check whether the given number is Adam number or not```\n",
    "\n"
   ]
  },
  {
   "cell_type": "code",
   "execution_count": 1,
   "metadata": {},
   "outputs": [
    {
     "name": "stdout",
     "output_type": "stream",
     "text": [
      "Enter n: 12\n",
      "ADAM NUM\n"
     ]
    }
   ],
   "source": [
    "n = int(input(\"Enter n: \"))\n",
    "print(\"ADAM NUM\") if int(str(n**2)[::-1])== int(str(n)[::-1])**2 else print(\"NO\")"
   ]
  }
 ],
 "metadata": {
  "kernelspec": {
   "display_name": "Python 3",
   "language": "python",
   "name": "python3"
  },
  "language_info": {
   "codemirror_mode": {
    "name": "ipython",
    "version": 3
   },
   "file_extension": ".py",
   "mimetype": "text/x-python",
   "name": "python",
   "nbconvert_exporter": "python",
   "pygments_lexer": "ipython3",
   "version": "3.7.4"
  }
 },
 "nbformat": 4,
 "nbformat_minor": 2
}
