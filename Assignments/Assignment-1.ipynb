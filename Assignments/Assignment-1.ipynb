{
 "cells": [
  {
   "cell_type": "code",
   "execution_count": 1,
   "metadata": {},
   "outputs": [
    {
     "name": "stdout",
     "output_type": "stream",
     "text": [
      "* \r\n",
      "* * \r\n",
      "* * * \r\n",
      "* * * * \r\n",
      "* * * * * \r\n"
     ]
    }
   ],
   "source": [
    "#Question 1. Generate the following pattern\n",
    "\n",
    "n=5;\n",
    "for i in range(0,n):\n",
    "    for j in range(0,i+1):\n",
    "        print(\"*\",end=\" \")\n",
    "    print(\"\\r\")"
   ]
  },
  {
   "cell_type": "code",
   "execution_count": 2,
   "metadata": {},
   "outputs": [
    {
     "name": "stdout",
     "output_type": "stream",
     "text": [
      "Enter the value of k 7\n",
      "7  x  1 =  7\n",
      "7  x  2 =  14\n",
      "7  x  3 =  21\n",
      "7  x  4 =  28\n",
      "7  x  5 =  35\n",
      "7  x  6 =  42\n",
      "7  x  7 =  49\n",
      "7  x  8 =  56\n",
      "7  x  9 =  63\n",
      "7  x  10 =  70\n"
     ]
    }
   ],
   "source": [
    "#Question 2. Display multiplication table of K. Take k value from user\n",
    "\n",
    "k = int(input(\"Enter the value of k \"))\n",
    "for i in range(1,11):\n",
    "    print(k,\" x \",i,\"= \",(k * i))"
   ]
  },
  {
   "cell_type": "code",
   "execution_count": 3,
   "metadata": {},
   "outputs": [
    {
     "name": "stdout",
     "output_type": "stream",
     "text": [
      "Enter the value of a 4\n",
      "Enter the value of b 2\n",
      "Enter the value of c -2\n",
      "root_1 =  0.5\n",
      "root_2 =  -1.0\n"
     ]
    }
   ],
   "source": [
    "# Question 3.Roots of quadratic equation, Take the coefficients a,b,c from the user.\n",
    "\n",
    "import math\n",
    "a = int(input(\"Enter the value of a \"))\n",
    "b = int(input(\"Enter the value of b \"))\n",
    "c = int(input(\"Enter the value of c \"))\n",
    "d = (b ** 2) - (4 * a * c) \n",
    "print (\"root_1 = \",(-b + math.sqrt(d))/(2*a))\n",
    "print (\"root_2 = \",(-b - math.sqrt(d))/(2*a))"
   ]
  },
  {
   "cell_type": "code",
   "execution_count": 4,
   "metadata": {},
   "outputs": [
    {
     "name": "stdout",
     "output_type": "stream",
     "text": [
      "enter the value of n4\n",
      "binary number is: 100"
     ]
    }
   ],
   "source": [
    "#Question 4. Convert a decimal number to Binary\n",
    "n = int(input(\"enter the value of n\"))\n",
    "binary=[]\n",
    "while n > 0:\n",
    "    a = (n % 2)\n",
    "    n = (n // 2)\n",
    "    binary.append(a)\n",
    "binary.reverse()\n",
    "print(\"binary number is\", end=\": \")\n",
    "for i in binary:\n",
    "    print(i, end=\"\")"
   ]
  },
  {
   "cell_type": "code",
   "execution_count": 5,
   "metadata": {},
   "outputs": [
    {
     "name": "stdout",
     "output_type": "stream",
     "text": [
      "Enter the value of n16\n",
      "0\n",
      "1\n",
      "1\n",
      "2\n",
      "3\n",
      "5\n",
      "8\n",
      "13\n",
      "21\n",
      "34\n",
      "55\n",
      "89\n",
      "144\n",
      "233\n",
      "377\n",
      "610\n"
     ]
    }
   ],
   "source": [
    "#Question 5. Generate first N number of Fibonacci numbers. Take N value from the user\n",
    "n = int(input(\"Enter the value of n\"))\n",
    "i=0\n",
    "s1=0\n",
    "s2=1\n",
    "while i<n:\n",
    "    if i<=1:\n",
    "        x=i\n",
    "    else:\n",
    "        x=s2+s1\n",
    "        s1=s2\n",
    "        s2=x\n",
    "    print(x)\n",
    "    i=i+1"
   ]
  },
  {
   "cell_type": "code",
   "execution_count": null,
   "metadata": {},
   "outputs": [],
   "source": []
  }
 ],
 "metadata": {
  "kernelspec": {
   "display_name": "Python 3",
   "language": "python",
   "name": "python3"
  },
  "language_info": {
   "codemirror_mode": {
    "name": "ipython",
    "version": 3
   },
   "file_extension": ".py",
   "mimetype": "text/x-python",
   "name": "python",
   "nbconvert_exporter": "python",
   "pygments_lexer": "ipython3",
   "version": "3.7.6"
  }
 },
 "nbformat": 4,
 "nbformat_minor": 4
}
