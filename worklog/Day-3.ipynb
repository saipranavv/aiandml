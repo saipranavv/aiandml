{
 "cells": [
  {
   "cell_type": "markdown",
   "metadata": {},
   "source": [
    "### strings:\n",
    "1. \" \" or ' ' #represents strings in python\n",
    "2. immutable --> we cannot make any changes\n",
    "3. collection of characters enclosed by quotation marks --> iterable object"
   ]
  },
  {
   "cell_type": "code",
   "execution_count": 4,
   "metadata": {},
   "outputs": [
    {
     "name": "stdout",
     "output_type": "stream",
     "text": [
      "enter a stringhey\n",
      "<class 'str'> <class 'str'>\n"
     ]
    }
   ],
   "source": [
    "s1 = input(\"enter a string\")\n",
    "s2 = 'good afternoon'\n",
    "print (type(s1),type(s2))"
   ]
  },
  {
   "cell_type": "code",
   "execution_count": 9,
   "metadata": {},
   "outputs": [
    {
     "name": "stdout",
     "output_type": "stream",
     "text": [
      "heygood afternoon\n",
      "heyheyhey\n"
     ]
    }
   ],
   "source": [
    "#operators: +,*(repitition),[](slice)\n",
    "print (s1 + s2)#concat\n",
    "print(s1 * 3)#repetition\n"
   ]
  },
  {
   "cell_type": "code",
   "execution_count": 19,
   "metadata": {},
   "outputs": [
    {
     "name": "stdout",
     "output_type": "stream",
     "text": [
      "enter a string: mam\n",
      "the given string is palindrome\n"
     ]
    }
   ],
   "source": [
    "## accept a string from the user and check whether it is a #palindrome or not\n",
    "s3= input(\"enter a string: \" )\n",
    "if s3 == s3[::-1]:\n",
    "    print(\"the given string is palindrome\")\n",
    "else:\n",
    "        print(\"the given number is not palindrome\")"
   ]
  },
  {
   "cell_type": "code",
   "execution_count": 20,
   "metadata": {},
   "outputs": [
    {
     "name": "stdout",
     "output_type": "stream",
     "text": [
      "enter a number101\n",
      "the given number is palindrome\n"
     ]
    }
   ],
   "source": [
    "n = int(input(\"enter a number\"))\n",
    "if str(n) == str(n)[::-1]:\n",
    "    print(\"the given number is palindrome\")\n",
    "else:\n",
    "    print(\"the given number is not palindrome\")"
   ]
  },
  {
   "cell_type": "code",
   "execution_count": 21,
   "metadata": {},
   "outputs": [
    {
     "name": "stdout",
     "output_type": "stream",
     "text": [
      "on in s4\n",
      "False\n",
      "False\n",
      "True\n"
     ]
    }
   ],
   "source": [
    "s4 = \"python\"\n",
    "print (\"on in s4\")\n",
    "print(\"xyz\" is s4)\n",
    "print(\"on\" not in s4)#false\n",
    "print(\"xyz\" not in s4)#true"
   ]
  },
  {
   "cell_type": "code",
   "execution_count": 22,
   "metadata": {},
   "outputs": [
    {
     "name": "stdout",
     "output_type": "stream",
     "text": [
      "5\n",
      "o\n",
      "e\n",
      "c\n",
      "1\n"
     ]
    }
   ],
   "source": [
    "s = \"hello\"\n",
    "s1 = \"abc123\"\n",
    "print(len(s))\n",
    "print(max(s))\n",
    "print(min(s))\n",
    "print(max(s1))\n",
    "print(min(s1))"
   ]
  },
  {
   "cell_type": "code",
   "execution_count": 23,
   "metadata": {},
   "outputs": [
    {
     "name": "stdout",
     "output_type": "stream",
     "text": [
      "True\n",
      "False\n",
      "True\n",
      "False\n",
      "False\n",
      "True\n",
      "False\n",
      "True\n",
      "True\n"
     ]
    }
   ],
   "source": [
    "s1 = \"hello\"\n",
    "s2 = \"abc123\"\n",
    "s3 = \"123\"\n",
    "print(s1.isalpha())#true\n",
    "print(s1.isdigit())#false\n",
    "print(s1.isalnum())#true\n",
    "print(s2.isalpha())#false\n",
    "print(s2.isdigit())#false\n",
    "print(s2.isalnum())#true\n",
    "print(s3.isalpha())#false\n",
    "print(s3.isdigit())#true\n",
    "print(s3.isalnum())#true"
   ]
  },
  {
   "cell_type": "code",
   "execution_count": 24,
   "metadata": {},
   "outputs": [
    {
     "name": "stdout",
     "output_type": "stream",
     "text": [
      "False\n",
      "True\n",
      "False\n",
      "False\n"
     ]
    }
   ],
   "source": [
    "s1 = \"Python\"\n",
    "s2 = \"PYTHON\"\n",
    "print(s1.isupper())\n",
    "print(s2.isupper())\n",
    "print(s1.islower())\n",
    "print(s2.islower())"
   ]
  },
  {
   "cell_type": "code",
   "execution_count": 25,
   "metadata": {},
   "outputs": [
    {
     "name": "stdout",
     "output_type": "stream",
     "text": [
      "PYTHON\n",
      "python\n",
      "pYTHON\n"
     ]
    }
   ],
   "source": [
    "print(s1.upper())\n",
    "print(s1.lower())\n",
    "print(s1.swapcase())"
   ]
  },
  {
   "cell_type": "code",
   "execution_count": 26,
   "metadata": {},
   "outputs": [
    {
     "name": "stdout",
     "output_type": "stream",
     "text": [
      "pyTH0n\n"
     ]
    }
   ],
   "source": [
    "s = \"PYth0N\"\n",
    "print(s.swapcase())#pyTHon"
   ]
  },
  {
   "cell_type": "code",
   "execution_count": 27,
   "metadata": {},
   "outputs": [
    {
     "data": {
      "text/plain": [
       "3"
      ]
     },
     "execution_count": 27,
     "metadata": {},
     "output_type": "execute_result"
    }
   ],
   "source": [
    "s = \"abc abc abc\"\n",
    "s.count(\"abc\")#count returns frequency of the given substring"
   ]
  },
  {
   "cell_type": "code",
   "execution_count": 28,
   "metadata": {},
   "outputs": [
    {
     "name": "stdout",
     "output_type": "stream",
     "text": [
      "['a', 'b', 'c', 'd']\n"
     ]
    }
   ],
   "source": [
    "#split()-->reurn type is list\n",
    "s.split()\n",
    "s1 = \"a,b,c,d\"\n",
    "print(s1.split(\",\"))"
   ]
  },
  {
   "cell_type": "code",
   "execution_count": 3,
   "metadata": {},
   "outputs": [
    {
     "name": "stdout",
     "output_type": "stream",
     "text": [
      "1 2 3 4 5 6 7 8 9 10 \n",
      "1 2 3 4 5 6 7 8 9 10 "
     ]
    }
   ],
   "source": [
    "#print 1-n numbers of the screen\n",
    "n = 10\n",
    "for i in range (1,n+1):\n",
    "    print(i,end=\" \")\n",
    "    \n",
    "print()\n",
    "\n",
    "i = 1\n",
    "while i<=n:\n",
    "    print(i,end= \" \")\n",
    "    i += 1"
   ]
  },
  {
   "cell_type": "code",
   "execution_count": 5,
   "metadata": {},
   "outputs": [
    {
     "name": "stdout",
     "output_type": "stream",
     "text": [
      " \n",
      "p\n",
      "y\n",
      "t\n",
      "h\n",
      "o\n",
      "n\n",
      " \n",
      " \n",
      "p\n",
      "y\n",
      "t\n",
      "h\n",
      "o\n",
      "n\n",
      " \n"
     ]
    },
    {
     "ename": "NameError",
     "evalue": "name 'lens' is not defined",
     "output_type": "error",
     "traceback": [
      "\u001b[1;31m---------------------------------------------------------------------------\u001b[0m",
      "\u001b[1;31mNameError\u001b[0m                                 Traceback (most recent call last)",
      "\u001b[1;32m<ipython-input-5-f654645d84a4>\u001b[0m in \u001b[0;36m<module>\u001b[1;34m\u001b[0m\n\u001b[0;32m     10\u001b[0m \u001b[1;33m\u001b[0m\u001b[0m\n\u001b[0;32m     11\u001b[0m \u001b[1;31m#using for loop but you should not use iterable object\u001b[0m\u001b[1;33m\u001b[0m\u001b[1;33m\u001b[0m\u001b[1;33m\u001b[0m\u001b[0m\n\u001b[1;32m---> 12\u001b[1;33m \u001b[1;32mfor\u001b[0m \u001b[0mj\u001b[0m \u001b[1;32min\u001b[0m \u001b[0mrange\u001b[0m\u001b[1;33m(\u001b[0m\u001b[1;36m0\u001b[0m\u001b[1;33m,\u001b[0m\u001b[0mlens\u001b[0m\u001b[1;33m(\u001b[0m\u001b[0ms\u001b[0m\u001b[1;33m)\u001b[0m\u001b[1;33m)\u001b[0m\u001b[1;33m:\u001b[0m\u001b[1;33m\u001b[0m\u001b[1;33m\u001b[0m\u001b[0m\n\u001b[0m\u001b[0;32m     13\u001b[0m     \u001b[0mprint\u001b[0m\u001b[1;33m(\u001b[0m\u001b[0ms\u001b[0m\u001b[1;33m[\u001b[0m\u001b[0mj\u001b[0m\u001b[1;33m]\u001b[0m\u001b[1;33m)\u001b[0m\u001b[1;33m\u001b[0m\u001b[1;33m\u001b[0m\u001b[0m\n",
      "\u001b[1;31mNameError\u001b[0m: name 'lens' is not defined"
     ]
    }
   ],
   "source": [
    "s = \" python \"\n",
    "for i in s:\n",
    "    print(i)\n",
    "    \n",
    "#using while loop print all the characters of your string vert\n",
    "i = 0\n",
    "while i < len(s):\n",
    "    print(s[i])\n",
    "    i+=1\n",
    "    \n",
    "#using for loop but you should not use iterable object\n",
    "for j in range(0,lens(s)):\n",
    "    print(s[j])\n"
   ]
  },
  {
   "cell_type": "code",
   "execution_count": null,
   "metadata": {},
   "outputs": [],
   "source": []
  }
 ],
 "metadata": {
  "kernelspec": {
   "display_name": "Python 3",
   "language": "python",
   "name": "python3"
  },
  "language_info": {
   "codemirror_mode": {
    "name": "ipython",
    "version": 3
   },
   "file_extension": ".py",
   "mimetype": "text/x-python",
   "name": "python",
   "nbconvert_exporter": "python",
   "pygments_lexer": "ipython3",
   "version": "3.7.6"
  }
 },
 "nbformat": 4,
 "nbformat_minor": 4
}
